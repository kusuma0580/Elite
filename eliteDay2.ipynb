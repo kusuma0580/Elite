{
  "nbformat": 4,
  "nbformat_minor": 0,
  "metadata": {
    "colab": {
      "provenance": [],
      "mount_file_id": "14VT2FkQX-Clo7P8uyc-_1rO3EsJZSk6P",
      "authorship_tag": "ABX9TyMstAWUH7dx+bcpq4I/Le4v",
      "include_colab_link": true
    },
    "kernelspec": {
      "name": "python3",
      "display_name": "Python 3"
    },
    "language_info": {
      "name": "python"
    }
  },
  "cells": [
    {
      "cell_type": "markdown",
      "metadata": {
        "id": "view-in-github",
        "colab_type": "text"
      },
      "source": [
        "<a href=\"https://colab.research.google.com/github/kusuma0580/Elite/blob/main/eliteDay2.ipynb\" target=\"_parent\"><img src=\"https://colab.research.google.com/assets/colab-badge.svg\" alt=\"Open In Colab\"/></a>"
      ]
    },
    {
      "cell_type": "markdown",
      "source": [
        "**Constructing a Binary Tree**"
      ],
      "metadata": {
        "id": "IfnTwBO_KDJG"
      }
    },
    {
      "cell_type": "markdown",
      "source": [
        "Creating a root node:"
      ],
      "metadata": {
        "id": "qdgP9wXsbHYg"
      }
    },
    {
      "cell_type": "code",
      "source": [
        "class Node:\n",
        "    def __init__(self, data):\n",
        "        self.data = data\n",
        "        self.left = None\n",
        "        self.right = None\n",
        "    def printTree(self):\n",
        "        print(self.data)\n",
        "tree1 = Node(10)\n",
        "print(tree1.printTree())"
      ],
      "metadata": {
        "id": "b6XO8pERKIwG",
        "colab": {
          "base_uri": "https://localhost:8080/"
        },
        "outputId": "40ecefee-e31a-4da4-9d56-c2f633b7b215"
      },
      "execution_count": null,
      "outputs": [
        {
          "output_type": "stream",
          "name": "stdout",
          "text": [
            "10\n",
            "None\n"
          ]
        }
      ]
    },
    {
      "cell_type": "markdown",
      "source": [
        "Insertion into a binary tree:"
      ],
      "metadata": {
        "id": "-3eo5qS9lodI"
      }
    },
    {
      "cell_type": "code",
      "source": [
        "class Node:\n",
        "    def __init__(self, data):\n",
        "        self.left = None\n",
        "        self.right = None\n",
        "        self.data = data\n",
        "    def printTree(self):\n",
        "        if self.left:\n",
        "            self.left.printTree()\n",
        "        print(self.data)\n",
        "        if self.right:\n",
        "            self.right.printTree()\n",
        "        \n",
        "    def insert(self, data):\n",
        "        if self.data:\n",
        "            if data<self.data:\n",
        "                if self.left is None:\n",
        "                    self.left = Node(data)\n",
        "                else:\n",
        "                    self.left.insert(data)\n",
        "            elif data>self.data:\n",
        "                if self.right is None:\n",
        "                    self.right = Node(data)\n",
        "                else:\n",
        "                    self.right.insert(data)\n",
        "        else:\n",
        "            self.data = data\n",
        "tree2 = Node(12)\n",
        "tree2.insert(3)\n",
        "tree2.insert(4)\n",
        "tree2.insert(14)\n",
        "tree2.insert(15)\n",
        "tree2.printTree()"
      ],
      "metadata": {
        "id": "z5Z3_XBhlrxg",
        "colab": {
          "base_uri": "https://localhost:8080/"
        },
        "outputId": "a7596a9d-eeb7-4e0c-d2aa-bb665b33d50a"
      },
      "execution_count": null,
      "outputs": [
        {
          "output_type": "stream",
          "name": "stdout",
          "text": [
            "3\n",
            "4\n",
            "12\n",
            "14\n",
            "15\n"
          ]
        }
      ]
    },
    {
      "cell_type": "markdown",
      "source": [
        "**Tree Traversals:**\n",
        "Inorder Traversal:"
      ],
      "metadata": {
        "id": "AVTvpITflsAU"
      }
    },
    {
      "cell_type": "code",
      "source": [
        "class Node:\n",
        "    def __init__(self, data):\n",
        "        self.left = None\n",
        "        self.right = None\n",
        "        self.data = data\n",
        "    def insert(self, data):\n",
        "        if self.data:\n",
        "            if data < self.data:\n",
        "                if self.left is None:\n",
        "                    self.left = Node(data)\n",
        "                else:\n",
        "                    self.left.insert(data)\n",
        "            elif data > self.data:\n",
        "                if self.right is None:\n",
        "                    self.right = Node(data)\n",
        "                else:\n",
        "                    self.right.insert(data)\n",
        "        else:\n",
        "            self.data = data\n",
        "    def printTree(self):\n",
        "        if self.left:\n",
        "            self.left.printTree()\n",
        "        print(self.data)\n",
        "        if self.right:\n",
        "            self.right.printTree()\n",
        "    def inorderTraversal(self, tree):\n",
        "        res =[]\n",
        "        if tree:\n",
        "            res = self.inorderTraversal(tree.left)\n",
        "            res.append(tree.data)\n",
        "            res = res + self.inorderTraversal(tree.right)\n",
        "\n",
        "        return res\n",
        "    \n",
        "tree3 = Node(27)\n",
        "tree3.insert(14)\n",
        "tree3.insert(35)\n",
        "tree3.insert(10)\n",
        "tree3.insert(19)\n",
        "tree3.insert(31)\n",
        "tree3.insert(42)\n",
        "tree3.printTree()\n",
        "print()\n",
        "print(tree3.inorderTraversal(tree3))"
      ],
      "metadata": {
        "id": "E4I77OlxlyUJ",
        "colab": {
          "base_uri": "https://localhost:8080/"
        },
        "outputId": "433cd586-2cb9-47f1-8a4f-179289b8590d"
      },
      "execution_count": null,
      "outputs": [
        {
          "output_type": "stream",
          "name": "stdout",
          "text": [
            "10\n",
            "14\n",
            "19\n",
            "27\n",
            "31\n",
            "35\n",
            "42\n",
            "\n",
            "[10, 14, 19, 27, 31, 35, 42]\n"
          ]
        }
      ]
    },
    {
      "cell_type": "markdown",
      "source": [
        "Preorder Traversal:"
      ],
      "metadata": {
        "id": "foOsrUdYlyr2"
      }
    },
    {
      "cell_type": "code",
      "source": [
        "class Node:\n",
        "    def __init__(self, data):\n",
        "        self.left = None\n",
        "        self.right = None\n",
        "        self.data = data\n",
        "    def insert(self, data):\n",
        "        if self.data:\n",
        "            if data < self.data:\n",
        "                if self.left is None:\n",
        "                    self.left = Node(data)\n",
        "                else:\n",
        "                    self.left.insert(data)\n",
        "            elif data > self.data:\n",
        "                if self.right is None:\n",
        "                    self.right = Node(data)\n",
        "                else:\n",
        "                    self.right.insert(data)\n",
        "        else:\n",
        "            self.data = data\n",
        "    def printTree(self):\n",
        "        if self.left:\n",
        "            self.left.printTree()\n",
        "        print(self.data)\n",
        "        if self.right:\n",
        "            self.right.printTree()\n",
        "    def inorderTraversal(self, tree):\n",
        "        res = []\n",
        "        if tree:\n",
        "            res = self.inorderTraversal(tree.left)\n",
        "            res.append(tree.data)\n",
        "            res = res + self.inorderTraversal(tree.right)\n",
        "        return res \n",
        "    def preorderTraversal(self, tree):\n",
        "        res = []\n",
        "        if tree:\n",
        "            res.append(tree.data)\n",
        "            res += self.preorderTraversal(tree.left)\n",
        "            res += self.preorderTraversal(tree.right)\n",
        "        return res\n",
        "tree4 = Node(27)\n",
        "tree4.insert(14)\n",
        "tree4.insert(35)\n",
        "tree4.insert(10)\n",
        "tree4.insert(19)\n",
        "tree4.insert(31)\n",
        "tree4.insert(42)\n",
        "tree4.printTree()\n",
        "print(tree4.preorderTraversal(tree4))\n",
        "print(tree4.inorderTraversal(tree4))"
      ],
      "metadata": {
        "id": "Pqdbt933l2b8",
        "colab": {
          "base_uri": "https://localhost:8080/"
        },
        "outputId": "575f7c33-e47f-433b-c770-4d9c0feddac4"
      },
      "execution_count": null,
      "outputs": [
        {
          "output_type": "stream",
          "name": "stdout",
          "text": [
            "10\n",
            "14\n",
            "19\n",
            "27\n",
            "31\n",
            "35\n",
            "42\n",
            "[27, 14, 10, 19, 35, 31, 42]\n",
            "[10, 14, 19, 27, 31, 35, 42]\n"
          ]
        }
      ]
    },
    {
      "cell_type": "markdown",
      "source": [
        "Postorder Traversal:"
      ],
      "metadata": {
        "id": "dak-UcmCl2jL"
      }
    },
    {
      "cell_type": "code",
      "source": [
        "class Node: \n",
        "    def __init__(self, data):\n",
        "        self.data = data\n",
        "        self.right = None\n",
        "        self.left = None\n",
        "    def insert(self, data):\n",
        "        if self.data:\n",
        "            if data < self.data:\n",
        "                if self.left is None:\n",
        "                    self.left = Node(data)\n",
        "                else:\n",
        "                    self.left.insert(data)\n",
        "            elif data > self.data:\n",
        "                if self.right is None:\n",
        "                    self.right = Node(data)\n",
        "                else:\n",
        "                    self.right.insert(data)\n",
        "        else:\n",
        "            self.data = data\n",
        "    def printTree(self):\n",
        "        if self.left:\n",
        "            self.left.printTree()\n",
        "        print(self.data)\n",
        "        if self.right:\n",
        "            self.right.printTree()\n",
        "    def inorderTraversal(self, tree):\n",
        "        res = []\n",
        "        if tree:\n",
        "            res = self.inorderTraversal(tree.left)\n",
        "            res.append(tree.data)\n",
        "            res += self.inorderTraversal(tree.right)\n",
        "        return res\n",
        "    def preorderTraversal(self, tree):\n",
        "        res = []\n",
        "        if tree:\n",
        "            res.append(tree.data)\n",
        "            res += self.preorderTraversal(tree.left)\n",
        "            res += self.preorderTraversal(tree.right)\n",
        "        return res\n",
        "    def postorderTraversal(self, tree):\n",
        "        res = []\n",
        "        if tree:\n",
        "            res = self.postorderTraversal(tree.left)\n",
        "            res += self.postorderTraversal(tree.right)\n",
        "            res.append(tree.data)\n",
        "        return res\n",
        "tree5 = Node(27)\n",
        "tree5.insert(14)\n",
        "tree5.insert(35)\n",
        "tree5.insert(10)\n",
        "tree5.insert(19)\n",
        "tree5.insert(31)\n",
        "tree5.insert(42)\n",
        "tree5.printTree()\n",
        "print()\n",
        "print(tree5.postorderTraversal(tree5))\n",
        "print(tree5.preorderTraversal(tree5))\n",
        "print(tree5.inorderTraversal(tree5))"
      ],
      "metadata": {
        "id": "mf4ypoXbl5fN",
        "colab": {
          "base_uri": "https://localhost:8080/"
        },
        "outputId": "8298bd7b-9c69-458e-858b-7740323dc69c"
      },
      "execution_count": null,
      "outputs": [
        {
          "output_type": "stream",
          "name": "stdout",
          "text": [
            "10\n",
            "14\n",
            "19\n",
            "27\n",
            "31\n",
            "35\n",
            "42\n",
            "\n",
            "[10, 19, 14, 31, 42, 35, 27]\n",
            "[27, 14, 10, 19, 35, 31, 42]\n",
            "[10, 14, 19, 27, 31, 35, 42]\n"
          ]
        }
      ]
    },
    {
      "cell_type": "markdown",
      "source": [
        "Same Tree"
      ],
      "metadata": {
        "id": "bNyCFOsFCl86"
      }
    },
    {
      "cell_type": "code",
      "source": [
        "class Solution:\n",
        "    def isSameTree(self, p: Optional[TreeNode], q: Optional[TreeNode]) -> bool:\n",
        "        if p == None and q == None:\n",
        "            return True\n",
        "        else:\n",
        "            if p == None or q == None:\n",
        "                return False\n",
        "            else:\n",
        "                if p.val == q.val:\n",
        "                    return self.isSameTree(p.left,q.left)  and self.isSameTree(p.right, q.right)\n",
        "                return False"
      ],
      "metadata": {
        "id": "Bnak_LRaCpKm"
      },
      "execution_count": null,
      "outputs": []
    },
    {
      "cell_type": "markdown",
      "source": [
        "Balanced Binary Tree"
      ],
      "metadata": {
        "id": "ZnJEZtPICro2"
      }
    },
    {
      "cell_type": "code",
      "source": [
        "class Solution(object):\n",
        "    def isBalanced(self, root):\n",
        "        \"\"\"\n",
        "        :type root: TreeNode\n",
        "        :rtype: bool\n",
        "        \"\"\"\n",
        "        if root is None:\n",
        "            return True\n",
        "        def recur(root):\n",
        "            if root is None:\n",
        "                return 0\n",
        "            return max(recur(root.left), recur(root.right)) + 1\n",
        "        return abs(recur(root.left) - recur(root.right)) <= 1 and self.isBalanced(root.left) and self.isBalanced(root.right)\n"
      ],
      "metadata": {
        "id": "1bomErIiDd3P"
      },
      "execution_count": null,
      "outputs": []
    },
    {
      "cell_type": "markdown",
      "source": [
        "Symmetric Tree"
      ],
      "metadata": {
        "id": "YaNbNd3fCrqf"
      }
    },
    {
      "cell_type": "code",
      "source": [
        "class Solution(object):\n",
        "    def isSymmetric(self, root):\n",
        "        \"\"\"\n",
        "        :type root: TreeNode\n",
        "        :rtype: bool\n",
        "        \"\"\"\n",
        "        if root is None:\n",
        "            return True\n",
        "        def recur_left(root, res):\n",
        "            if root is None:\n",
        "                res.append(None)\n",
        "                return\n",
        "            res.append(root.val)\n",
        "            recur_left(root.left, res)\n",
        "            recur_left(root.right, res)\n",
        "            return res\n",
        "        def recur_right(root, res):\n",
        "            if root is None:\n",
        "                res.append(None)\n",
        "                return\n",
        "            res.append(root.val)\n",
        "            recur_right(root.right, res)\n",
        "            recur_right(root.left, res)\n",
        "            return res\n",
        "        return recur_left(root.left, []) == recur_right(root.right, [])"
      ],
      "metadata": {
        "id": "OLVyRxn6DLzA"
      },
      "execution_count": null,
      "outputs": []
    },
    {
      "cell_type": "markdown",
      "source": [
        "Maximum depth of Binary Tree"
      ],
      "metadata": {
        "id": "AT_TmEyODsH2"
      }
    },
    {
      "cell_type": "code",
      "source": [
        "class Solution(object):\n",
        "    def maxDepth(self, root):\n",
        "        \"\"\"\n",
        "        :type root: TreeNode\n",
        "        :rtype: int\n",
        "        \"\"\"\n",
        "        if root is None:\n",
        "            return 0\n",
        "        return max(self.maxDepth(root.left), self.maxDepth(root.right)) + 1"
      ],
      "metadata": {
        "id": "XSU-jCKIDsO-"
      },
      "execution_count": null,
      "outputs": []
    },
    {
      "cell_type": "markdown",
      "source": [
        "Minimum depth of Binary Tree"
      ],
      "metadata": {
        "id": "fgQPmqZZDsa-"
      }
    },
    {
      "cell_type": "code",
      "source": [
        "class Solution(object):\n",
        "    def minDepth(self, root):\n",
        "        \"\"\"\n",
        "        :type root: TreeNode\n",
        "        :rtype: int\n",
        "        \"\"\"\n",
        "        if root is None:\n",
        "            return 0\n",
        "        if root.left and root.right:\n",
        "            return min(self.minDepth(root.left), self.minDepth(root.right)) + 1\n",
        "        else:\n",
        "            return max(self.minDepth(root.left), self.minDepth(root.right)) + 1"
      ],
      "metadata": {
        "id": "g8lBPqUQDsj0"
      },
      "execution_count": null,
      "outputs": []
    }
  ]
}
