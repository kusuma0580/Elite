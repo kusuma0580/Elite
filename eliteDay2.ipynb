{
  "nbformat": 4,
  "nbformat_minor": 0,
  "metadata": {
    "colab": {
      "provenance": [],
      "mount_file_id": "14VT2FkQX-Clo7P8uyc-_1rO3EsJZSk6P",
      "authorship_tag": "ABX9TyOG5N3uLMDB9mNP0HdtDnP5",
      "include_colab_link": true
    },
    "kernelspec": {
      "name": "python3",
      "display_name": "Python 3"
    },
    "language_info": {
      "name": "python"
    }
  },
  "cells": [
    {
      "cell_type": "markdown",
      "metadata": {
        "id": "view-in-github",
        "colab_type": "text"
      },
      "source": [
        "<a href=\"https://colab.research.google.com/github/kusuma0580/Elite/blob/main/eliteDay2.ipynb\" target=\"_parent\"><img src=\"https://colab.research.google.com/assets/colab-badge.svg\" alt=\"Open In Colab\"/></a>"
      ]
    },
    {
      "cell_type": "markdown",
      "source": [
        "**Constructing a Binary Tree**"
      ],
      "metadata": {
        "id": "IfnTwBO_KDJG"
      }
    },
    {
      "cell_type": "markdown",
      "source": [
        "Creating a root node:"
      ],
      "metadata": {
        "id": "qdgP9wXsbHYg"
      }
    },
    {
      "cell_type": "code",
      "source": [
        "class Node:\n",
        "    def __init__(self, data):\n",
        "        self.data = data\n",
        "        self.left = None\n",
        "        self.right = None\n",
        "    def printTree(self):\n",
        "        print(self.data)\n",
        "tree1 = Node(10)\n",
        "print(tree1.printTree())"
      ],
      "metadata": {
        "id": "b6XO8pERKIwG",
        "colab": {
          "base_uri": "https://localhost:8080/"
        },
        "outputId": "40ecefee-e31a-4da4-9d56-c2f633b7b215"
      },
      "execution_count": 1,
      "outputs": [
        {
          "output_type": "stream",
          "name": "stdout",
          "text": [
            "10\n",
            "None\n"
          ]
        }
      ]
    },
    {
      "cell_type": "markdown",
      "source": [
        "Insertion into a binary tree:"
      ],
      "metadata": {
        "id": "-3eo5qS9lodI"
      }
    },
    {
      "cell_type": "code",
      "source": [
        "class Node:\n",
        "    def __init__(self, data):\n",
        "        self.left = None\n",
        "        self.right = None\n",
        "        self.data = data\n",
        "    def printTree(self):\n",
        "        if self.left:\n",
        "            self.left.printTree()\n",
        "        print(self.data)\n",
        "        if self.right:\n",
        "            self.right.printTree()\n",
        "        \n",
        "    def insert(self, data):\n",
        "        if self.data:\n",
        "            if data<self.data:\n",
        "                if self.left is None:\n",
        "                    self.left = Node(data)\n",
        "                else:\n",
        "                    self.left.insert(data)\n",
        "            elif data>self.data:\n",
        "                if self.right is None:\n",
        "                    self.right = Node(data)\n",
        "                else:\n",
        "                    self.right.insert(data)\n",
        "        else:\n",
        "            self.data = data\n",
        "tree2 = Node(12)\n",
        "tree2.insert(3)\n",
        "tree2.insert(4)\n",
        "tree2.insert(14)\n",
        "tree2.insert(15)\n",
        "tree2.printTree()"
      ],
      "metadata": {
        "id": "z5Z3_XBhlrxg",
        "colab": {
          "base_uri": "https://localhost:8080/"
        },
        "outputId": "a7596a9d-eeb7-4e0c-d2aa-bb665b33d50a"
      },
      "execution_count": 2,
      "outputs": [
        {
          "output_type": "stream",
          "name": "stdout",
          "text": [
            "3\n",
            "4\n",
            "12\n",
            "14\n",
            "15\n"
          ]
        }
      ]
    },
    {
      "cell_type": "markdown",
      "source": [
        "**Tree Traversals:**\n",
        "Inorder Traversal:"
      ],
      "metadata": {
        "id": "AVTvpITflsAU"
      }
    },
    {
      "cell_type": "code",
      "source": [
        "class Node:\n",
        "    def __init__(self, data):\n",
        "        self.left = None\n",
        "        self.right = None\n",
        "        self.data = data\n",
        "    def insert(self, data):\n",
        "        if self.data:\n",
        "            if data < self.data:\n",
        "                if self.left is None:\n",
        "                    self.left = Node(data)\n",
        "                else:\n",
        "                    self.left.insert(data)\n",
        "            elif data > self.data:\n",
        "                if self.right is None:\n",
        "                    self.right = Node(data)\n",
        "                else:\n",
        "                    self.right.insert(data)\n",
        "        else:\n",
        "            self.data = data\n",
        "    def printTree(self):\n",
        "        if self.left:\n",
        "            self.left.printTree()\n",
        "        print(self.data)\n",
        "        if self.right:\n",
        "            self.right.printTree()\n",
        "    def inorderTraversal(self, tree):\n",
        "        res =[]\n",
        "        if tree:\n",
        "            res = self.inorderTraversal(tree.left)\n",
        "            res.append(tree.data)\n",
        "            res = res + self.inorderTraversal(tree.right)\n",
        "\n",
        "        return res\n",
        "    \n",
        "tree3 = Node(27)\n",
        "tree3.insert(14)\n",
        "tree3.insert(35)\n",
        "tree3.insert(10)\n",
        "tree3.insert(19)\n",
        "tree3.insert(31)\n",
        "tree3.insert(42)\n",
        "tree3.printTree()\n",
        "print()\n",
        "print(tree3.inorderTraversal(tree3))"
      ],
      "metadata": {
        "id": "E4I77OlxlyUJ",
        "colab": {
          "base_uri": "https://localhost:8080/"
        },
        "outputId": "433cd586-2cb9-47f1-8a4f-179289b8590d"
      },
      "execution_count": 3,
      "outputs": [
        {
          "output_type": "stream",
          "name": "stdout",
          "text": [
            "10\n",
            "14\n",
            "19\n",
            "27\n",
            "31\n",
            "35\n",
            "42\n",
            "\n",
            "[10, 14, 19, 27, 31, 35, 42]\n"
          ]
        }
      ]
    },
    {
      "cell_type": "markdown",
      "source": [
        "Preorder Traversal:"
      ],
      "metadata": {
        "id": "foOsrUdYlyr2"
      }
    },
    {
      "cell_type": "code",
      "source": [
        "class Node:\n",
        "    def __init__(self, data):\n",
        "        self.left = None\n",
        "        self.right = None\n",
        "        self.data = data\n",
        "    def insert(self, data):\n",
        "        if self.data:\n",
        "            if data < self.data:\n",
        "                if self.left is None:\n",
        "                    self.left = Node(data)\n",
        "                else:\n",
        "                    self.left.insert(data)\n",
        "            elif data > self.data:\n",
        "                if self.right is None:\n",
        "                    self.right = Node(data)\n",
        "                else:\n",
        "                    self.right.insert(data)\n",
        "        else:\n",
        "            self.data = data\n",
        "    def printTree(self):\n",
        "        if self.left:\n",
        "            self.left.printTree()\n",
        "        print(self.data)\n",
        "        if self.right:\n",
        "            self.right.printTree()\n",
        "    def inorderTraversal(self, tree):\n",
        "        res = []\n",
        "        if tree:\n",
        "            res = self.inorderTraversal(tree.left)\n",
        "            res.append(tree.data)\n",
        "            res = res + self.inorderTraversal(tree.right)\n",
        "        return res \n",
        "    def preorderTraversal(self, tree):\n",
        "        res = []\n",
        "        if tree:\n",
        "            res.append(tree.data)\n",
        "            res += self.preorderTraversal(tree.left)\n",
        "            res += self.preorderTraversal(tree.right)\n",
        "        return res\n",
        "tree4 = Node(27)\n",
        "tree4.insert(14)\n",
        "tree4.insert(35)\n",
        "tree4.insert(10)\n",
        "tree4.insert(19)\n",
        "tree4.insert(31)\n",
        "tree4.insert(42)\n",
        "tree4.printTree()\n",
        "print(tree4.preorderTraversal(tree4))\n",
        "print(tree4.inorderTraversal(tree4))"
      ],
      "metadata": {
        "id": "Pqdbt933l2b8",
        "colab": {
          "base_uri": "https://localhost:8080/"
        },
        "outputId": "575f7c33-e47f-433b-c770-4d9c0feddac4"
      },
      "execution_count": 4,
      "outputs": [
        {
          "output_type": "stream",
          "name": "stdout",
          "text": [
            "10\n",
            "14\n",
            "19\n",
            "27\n",
            "31\n",
            "35\n",
            "42\n",
            "[27, 14, 10, 19, 35, 31, 42]\n",
            "[10, 14, 19, 27, 31, 35, 42]\n"
          ]
        }
      ]
    },
    {
      "cell_type": "markdown",
      "source": [
        "Postorder Traversal:"
      ],
      "metadata": {
        "id": "dak-UcmCl2jL"
      }
    },
    {
      "cell_type": "code",
      "source": [
        "class Node: \n",
        "    def __init__(self, data):\n",
        "        self.data = data\n",
        "        self.right = None\n",
        "        self.left = None\n",
        "    def insert(self, data):\n",
        "        if self.data:\n",
        "            if data < self.data:\n",
        "                if self.left is None:\n",
        "                    self.left = Node(data)\n",
        "                else:\n",
        "                    self.left.insert(data)\n",
        "            elif data > self.data:\n",
        "                if self.right is None:\n",
        "                    self.right = Node(data)\n",
        "                else:\n",
        "                    self.right.insert(data)\n",
        "        else:\n",
        "            self.data = data\n",
        "    def printTree(self):\n",
        "        if self.left:\n",
        "            self.left.printTree()\n",
        "        print(self.data)\n",
        "        if self.right:\n",
        "            self.right.printTree()\n",
        "    def inorderTraversal(self, tree):\n",
        "        res = []\n",
        "        if tree:\n",
        "            res = self.inorderTraversal(tree.left)\n",
        "            res.append(tree.data)\n",
        "            res += self.inorderTraversal(tree.right)\n",
        "        return res\n",
        "    def preorderTraversal(self, tree):\n",
        "        res = []\n",
        "        if tree:\n",
        "            res.append(tree.data)\n",
        "            res += self.preorderTraversal(tree.left)\n",
        "            res += self.preorderTraversal(tree.right)\n",
        "        return res\n",
        "    def postorderTraversal(self, tree):\n",
        "        res = []\n",
        "        if tree:\n",
        "            res = self.postorderTraversal(tree.left)\n",
        "            res += self.postorderTraversal(tree.right)\n",
        "            res.append(tree.data)\n",
        "        return res\n",
        "tree5 = Node(27)\n",
        "tree5.insert(14)\n",
        "tree5.insert(35)\n",
        "tree5.insert(10)\n",
        "tree5.insert(19)\n",
        "tree5.insert(31)\n",
        "tree5.insert(42)\n",
        "tree5.printTree()\n",
        "print()\n",
        "print(tree5.postorderTraversal(tree5))\n",
        "print(tree5.preorderTraversal(tree5))\n",
        "print(tree5.inorderTraversal(tree5))"
      ],
      "metadata": {
        "id": "mf4ypoXbl5fN",
        "colab": {
          "base_uri": "https://localhost:8080/"
        },
        "outputId": "8298bd7b-9c69-458e-858b-7740323dc69c"
      },
      "execution_count": 5,
      "outputs": [
        {
          "output_type": "stream",
          "name": "stdout",
          "text": [
            "10\n",
            "14\n",
            "19\n",
            "27\n",
            "31\n",
            "35\n",
            "42\n",
            "\n",
            "[10, 19, 14, 31, 42, 35, 27]\n",
            "[27, 14, 10, 19, 35, 31, 42]\n",
            "[10, 14, 19, 27, 31, 35, 42]\n"
          ]
        }
      ]
    },
    {
      "cell_type": "markdown",
      "source": [
        "Binary Search Tree:"
      ],
      "metadata": {
        "id": "3DhN78ZEl6Cz"
      }
    },
    {
      "cell_type": "code",
      "source": [
        "class Node:\n",
        "    def __init__(self, data):\n",
        "        self.data = data\n",
        "        self.left = None\n",
        "        self.right = None\n",
        "    def insert(self, data):\n",
        "        if self.data:\n",
        "            if data < self.data:\n",
        "                if self.left is None:\n",
        "                    self.left = Node(data)\n",
        "                else:\n",
        "                    self.left.insert(data)\n",
        "            elif data > self.data:\n",
        "                if self.right is None:\n",
        "                    self.right = Node(data)\n",
        "                else:\n",
        "                    self.right.insert(data)\n",
        "        else:\n",
        "            self.data = data\n",
        "    def findval(self ,search_for):\n",
        "        if search_for > self.data:\n",
        "            if self.right is None:\n",
        "                return str(search_for) + \" is Not found\"\n",
        "            return self.right.findval(search_for)\n",
        "        elif search_for < self.data:\n",
        "            if self.left is None:\n",
        "                return str(search_for)+ \" is not found\"\n",
        "            return self.left.findval(search_for)\n",
        "        else:\n",
        "            return str(search_for)+\" is found\"\n",
        "    def PrintTree(self):\n",
        "        if self.left:\n",
        "            self.left.PrintTree()\n",
        "        print( self.data),\n",
        "        if self.right:\n",
        "           self.right.PrintTree()\n",
        "tree5 = Node(12)\n",
        "tree5.insert(6)\n",
        "tree5.insert(14)\n",
        "tree5.insert(3)\n",
        "print(tree5.findval(7))\n",
        "print(tree5.findval(12)) \n",
        "            "
      ],
      "metadata": {
        "id": "tLgrhppYl_gj",
        "colab": {
          "base_uri": "https://localhost:8080/"
        },
        "outputId": "fd9b4423-c40d-49d6-85e0-0aadb8986a55"
      },
      "execution_count": 6,
      "outputs": [
        {
          "output_type": "stream",
          "name": "stdout",
          "text": [
            "7 is Not found\n",
            "12 is found\n"
          ]
        }
      ]
    },
    {
      "cell_type": "code",
      "source": [
        "class Node:\n",
        "    def __init__(self, val):\n",
        "        self.val = val\n",
        "        self.left = None\n",
        "        self.right = None\n",
        "    \n",
        "    def insert(self, data):\n",
        "        newNode = Node(data)\n",
        "        if data < self.val:\n",
        "            if self.left:\n",
        "                self.left.insert(data)\n",
        "            else:\n",
        "                self.left = newNode\n",
        "                return\n",
        "        else:\n",
        "            if self.right:\n",
        "                self.right.insert(data)\n",
        "            else:\n",
        "                self.right = newNode\n",
        "                return\n",
        "    def search(self, data):\n",
        "        if data < self.val:\n",
        "            if self.left:\n",
        "                return self.left.search(data)\n",
        "            else:\n",
        "                return False\n",
        "        elif data > self.val:\n",
        "            if self.right:\n",
        "                return self.right.search(data)\n",
        "            else:\n",
        "                return False\n",
        "        else:\n",
        "            return True\n",
        "        return False\n",
        "    def printTree(self):\n",
        "        if self.left:\n",
        "            self.left.printTree()\n",
        "        print(self.val)\n",
        "        if self.right:\n",
        "            self.right.printTree()\n",
        "    def delete(self, data):\n",
        "        if data < self.val:\n",
        "            if self.left:\n",
        "                self.left = self.left.delete(data)\n",
        "            else:\n",
        "                print(\"data not found\")\n",
        "                return self\n",
        "        elif data > self.val:\n",
        "            if self.right:\n",
        "                self.right = self.right.delete(data)\n",
        "            else:\n",
        "                print(\"data not found\")\n",
        "                return self\n",
        "        else:\n",
        "            if self.left is None and self.right is None:\n",
        "                self = None\n",
        "                return None\n",
        "            elif self.left is None:\n",
        "                temp = self.right\n",
        "                self = None\n",
        "                return temp\n",
        "            elif self.right is None:\n",
        "                temp = self.left\n",
        "                self = None\n",
        "                return temp\n",
        "            else:\n",
        "                current = self.right\n",
        "                while(current.left is not None):\n",
        "                    current = current.left\n",
        "                self.val = current.val\n",
        "                self.right = self.right.delete(current.val)\n",
        "        return self\n",
        "    def inorder_Traversal(self, root):\n",
        "        res = []\n",
        "        if root:\n",
        "            res = self.inorder_Traversal(root.left)\n",
        "            res.append(root.val)\n",
        "            res = res + self.inorder_Traversal(root.right)\n",
        "        return res\n",
        "       \n",
        "class BinarysearchTree:\n",
        "    def __init__(self,data):\n",
        "        self.root = Node(data)\n",
        "    def insert(self, data):\n",
        "        if self.root is not None:\n",
        "            self.root.insert(data)\n",
        "        else:\n",
        "            self.root = Node(data)\n",
        "    def search(self,data):\n",
        "        if self.root is not None:\n",
        "            return self.root.search(data)\n",
        "        else:\n",
        "            return False\n",
        "    def delete(self,data):\n",
        "        if self.root is not None:\n",
        "            self.root.delete(data)\n",
        "    def display(self):\n",
        "        return self.root.printTree()\n",
        "    def inorder_Traversal(self):\n",
        "        return self.root.inorder_Traversal(self.root)\n",
        "BST = BinarysearchTree(10)\n",
        "BST.insert(6)\n",
        "BST.insert(4)\n",
        "BST.insert(9)\n",
        "BST.insert(5)\n",
        "BST.insert(2)\n",
        "BST.insert(8)\n",
        "BST.insert(12)\n",
        "BST.insert(10)\n",
        "BST.insert(14)\n",
        "print(BST.display())\n",
        "BST.delete(2)\n",
        "print(BST.display())\n",
        "print(BST.inorder_Traversal())"
      ],
      "metadata": {
        "id": "IZfSS2oEkecJ",
        "colab": {
          "base_uri": "https://localhost:8080/"
        },
        "outputId": "a3014b6b-a7e0-442b-b721-560a617196d4"
      },
      "execution_count": 7,
      "outputs": [
        {
          "output_type": "stream",
          "name": "stdout",
          "text": [
            "2\n",
            "4\n",
            "5\n",
            "6\n",
            "8\n",
            "9\n",
            "10\n",
            "10\n",
            "12\n",
            "14\n",
            "None\n",
            "4\n",
            "5\n",
            "6\n",
            "8\n",
            "9\n",
            "10\n",
            "10\n",
            "12\n",
            "14\n",
            "None\n",
            "[4, 5, 6, 8, 9, 10, 10, 12, 14]\n"
          ]
        }
      ]
    }
  ]
}