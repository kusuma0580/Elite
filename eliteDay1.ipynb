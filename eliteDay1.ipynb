{
  "nbformat": 4,
  "nbformat_minor": 0,
  "metadata": {
    "colab": {
      "provenance": [],
      "authorship_tag": "ABX9TyNOokYlEcVyRCDbNYGw77zd",
      "include_colab_link": true
    },
    "kernelspec": {
      "name": "python3",
      "display_name": "Python 3"
    },
    "language_info": {
      "name": "python"
    }
  },
  "cells": [
    {
      "cell_type": "markdown",
      "metadata": {
        "id": "view-in-github",
        "colab_type": "text"
      },
      "source": [
        "<a href=\"https://colab.research.google.com/github/kusuma0580/Elite/blob/main/eliteDay1.ipynb\" target=\"_parent\"><img src=\"https://colab.research.google.com/assets/colab-badge.svg\" alt=\"Open In Colab\"/></a>"
      ]
    },
    {
      "cell_type": "code",
      "execution_count": 2,
      "metadata": {
        "colab": {
          "base_uri": "https://localhost:8080/"
        },
        "id": "iHb4elXN3ENP",
        "outputId": "b94b8276-38ad-4458-92d4-99d9b8359b57"
      },
      "outputs": [
        {
          "output_type": "stream",
          "name": "stdout",
          "text": [
            "abbaccba\n",
            "The first repeating character in the given string: b\n"
          ]
        }
      ],
      "source": [
        "str1 = input()\n",
        "for i in range(len(str1) - 1):\n",
        "    if str1[i] == str1[i + 1]:\n",
        "        print(\"The first repeating character in the given string:\",str1[i])\n",
        "        break"
      ]
    },
    {
      "cell_type": "code",
      "source": [
        "str1 = input()\n",
        "i = 0\n",
        "j = len(str1) - 1\n",
        "while i < len(str1):\n",
        "    if str1[i] == str1[j]:\n",
        "        print(\"The first repeating character in the given string:\",str1[i])\n",
        "        break\n",
        "    else:\n",
        "        j -= 1\n",
        "    if j == i + 1 and str1[i] != str1[j]:\n",
        "        j = len(str1) - 1\n",
        "        i += 1\n",
        "else:\n",
        "    print(\"No Repeating Characters\")"
      ],
      "metadata": {
        "colab": {
          "base_uri": "https://localhost:8080/"
        },
        "id": "tzmmlfrA4BH-",
        "outputId": "d23036fe-2966-49a6-81b2-f508f9cc0e1b"
      },
      "execution_count": 6,
      "outputs": [
        {
          "output_type": "stream",
          "name": "stdout",
          "text": [
            "abbbccbb\n",
            "The first repeating character in the given string: b\n"
          ]
        }
      ]
    },
    {
      "cell_type": "code",
      "source": [
        "abca"
      ],
      "metadata": {
        "id": "TXQAr_aE-6g8"
      },
      "execution_count": null,
      "outputs": []
    },
    {
      "cell_type": "code",
      "source": [
        "str1 = input()\n",
        "res = []\n",
        "#finding unique elements\n",
        "set1 = set(str1)\n",
        "print(set1)\n",
        "#making dictionary of unique elements\n",
        "dict1 = dict()\n",
        "for ele in set1:\n",
        "    dict1[ele] = 0\n",
        "print(dict1)\n",
        "i = 0\n",
        "dict1[str1[i]] += 1\n",
        "j = 1\n",
        "dict1[str1[j]] += 1\n",
        "while j < len(str1) - 1:\n",
        "    if str1[i] == str1[j]:\n",
        "        dict1[str1[i]] -= 1\n",
        "        i += 1\n",
        "    j += 1\n",
        "    dict1[str1[j]] += 1\n",
        "    k = dict1.values()\n",
        "    count = len([x for x in k if x >= 1])\n",
        "    if count == len(set1):\n",
        "        res.append(str1[i:j+1])\n",
        "print(res)"
      ],
      "metadata": {
        "colab": {
          "base_uri": "https://localhost:8080/"
        },
        "id": "NPxUpHd-6PmP",
        "outputId": "db08f970-c42c-4556-9a12-efd9cfd4080a"
      },
      "execution_count": 25,
      "outputs": [
        {
          "output_type": "stream",
          "name": "stdout",
          "text": [
            "abbabcbb\n",
            "{'c', 'b', 'a'}\n",
            "{'c': 0, 'b': 0, 'a': 0}\n",
            "2\n",
            "3\n",
            "4\n",
            "5\n",
            "6\n",
            "7\n",
            "['babc', 'babcb', 'abcbb']\n"
          ]
        }
      ]
    }
  ]
}