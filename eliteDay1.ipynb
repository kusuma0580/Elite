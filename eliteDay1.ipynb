{
  "nbformat": 4,
  "nbformat_minor": 0,
  "metadata": {
    "colab": {
      "provenance": [],
      "authorship_tag": "ABX9TyNwrlHQgyCcwidv6EesenGv",
      "include_colab_link": true
    },
    "kernelspec": {
      "name": "python3",
      "display_name": "Python 3"
    },
    "language_info": {
      "name": "python"
    }
  },
  "cells": [
    {
      "cell_type": "markdown",
      "metadata": {
        "id": "view-in-github",
        "colab_type": "text"
      },
      "source": [
        "<a href=\"https://colab.research.google.com/github/kusuma0580/Elite/blob/main/eliteDay1.ipynb\" target=\"_parent\"><img src=\"https://colab.research.google.com/assets/colab-badge.svg\" alt=\"Open In Colab\"/></a>"
      ]
    },
    {
      "cell_type": "code",
      "execution_count": null,
      "metadata": {
        "colab": {
          "base_uri": "https://localhost:8080/"
        },
        "id": "iHb4elXN3ENP",
        "outputId": "b94b8276-38ad-4458-92d4-99d9b8359b57"
      },
      "outputs": [
        {
          "output_type": "stream",
          "name": "stdout",
          "text": [
            "abbaccba\n",
            "The first repeating character in the given string: b\n"
          ]
        }
      ],
      "source": [
        "#1)The first repeating characters(same characters adjacent to each other)\n",
        "str1 = input()\n",
        "for i in range(len(str1) - 1):\n",
        "    if str1[i] == str1[i + 1]:\n",
        "        print(\"The first repeating character in the given string:\",str1[i])\n",
        "        break"
      ]
    },
    {
      "cell_type": "markdown",
      "source": [
        "2)The first duplicate element or character in the given string"
      ],
      "metadata": {
        "id": "dP65ZhdFTi15"
      }
    },
    {
      "cell_type": "code",
      "source": [
        "str1 = input()\n",
        "i = 0\n",
        "j = len(str1) - 1\n",
        "while i < len(str1):\n",
        "    if str1[i] == str1[j]:\n",
        "        print(\"The first repeating character in the given string:\",str1[i])\n",
        "        break\n",
        "    else:\n",
        "        j -= 1\n",
        "    if j == i + 1 and str1[i] != str1[j]:\n",
        "        j = len(str1) - 1\n",
        "        i += 1\n",
        "else:\n",
        "    print(\"No Repeating Characters\")"
      ],
      "metadata": {
        "colab": {
          "base_uri": "https://localhost:8080/"
        },
        "id": "tzmmlfrA4BH-",
        "outputId": "d23036fe-2966-49a6-81b2-f508f9cc0e1b"
      },
      "execution_count": null,
      "outputs": [
        {
          "output_type": "stream",
          "name": "stdout",
          "text": [
            "abbbccbb\n",
            "The first repeating character in the given string: b\n"
          ]
        }
      ]
    },
    {
      "cell_type": "markdown",
      "source": [
        "3)Minimum Window substring"
      ],
      "metadata": {
        "id": "AKLuvHwXUqqE"
      }
    },
    {
      "cell_type": "code",
      "source": [
        "str1 = input()\n",
        "res = []\n",
        "#finding unique elements\n",
        "set1 = set(str1)\n",
        "print(set1)\n",
        "#making dictionary of unique elements\n",
        "dict1 = dict()\n",
        "for ele in set1:\n",
        "    dict1[ele] = 0\n",
        "print(dict1)\n",
        "i = 0\n",
        "dict1[str1[i]] += 1\n",
        "j = 1\n",
        "dict1[str1[j]] += 1\n",
        "while j < len(str1) - 1:\n",
        "    if str1[i] == str1[j]:\n",
        "        dict1[str1[i]] -= 1\n",
        "        i += 1\n",
        "    j += 1\n",
        "    dict1[str1[j]] += 1\n",
        "    k = dict1.values()\n",
        "    count = len([x for x in k if x >= 1])\n",
        "    if count == len(set1):\n",
        "        res.append(str1[i:j+1])\n",
        "print(res)"
      ],
      "metadata": {
        "colab": {
          "base_uri": "https://localhost:8080/"
        },
        "id": "NPxUpHd-6PmP",
        "outputId": "9e5542e4-391c-4c6b-8c3e-6f694da5e556"
      },
      "execution_count": null,
      "outputs": [
        {
          "output_type": "stream",
          "name": "stdout",
          "text": [
            "abbabcbb\n",
            "{'c', 'b', 'a'}\n",
            "{'c': 0, 'b': 0, 'a': 0}\n",
            "['babc', 'babcb', 'abcbb']\n"
          ]
        }
      ]
    },
    {
      "cell_type": "markdown",
      "source": [
        "4)The first unique charcater in a string"
      ],
      "metadata": {
        "id": "4oICi3JjUpXJ"
      }
    },
    {
      "cell_type": "code",
      "source": [
        "s = input()\n",
        "res = dict([])\n",
        "for c in s: \n",
        "    if c in res:\n",
        "        res[c] += 1\n",
        "    else:\n",
        "        res[c] = 1\n",
        "                \n",
        "for i in range(len(s)):\n",
        "    if res[s[i]] == 1:\n",
        "        print(i)\n",
        "        break\n",
        "else:\n",
        "    print(-1)\n"
      ],
      "metadata": {
        "colab": {
          "base_uri": "https://localhost:8080/"
        },
        "id": "XqU0P8BvaoQ1",
        "outputId": "fa51c2dd-1499-4221-d3ed-7d3d2764e9f0"
      },
      "execution_count": null,
      "outputs": [
        {
          "output_type": "stream",
          "name": "stdout",
          "text": [
            "loveleetcode\n",
            "2\n"
          ]
        }
      ]
    },
    {
      "cell_type": "markdown",
      "source": [
        "5)String to integer"
      ],
      "metadata": {
        "id": "5vq0m0INU317"
      }
    },
    {
      "cell_type": "code",
      "source": [
        "s = input()\n",
        "s = s.lstrip()\n",
        "int_max = 2147483647\n",
        "int_min = -2147483648\n",
        "i = 0\n",
        "isPositive = False\n",
        "isNegative = False\n",
        "if s[i] == \"+\":\n",
        "    isPositive = True\n",
        "if s[i] == \"-\":\n",
        "    isNegative = True\n",
        "#if isPositive:\n",
        "#    i += 1\n",
        "if isNegative:\n",
        "    i += 1\n",
        "num = 0\n",
        "while i < len(s) and \"0\"<= s[i] <= \"9\":\n",
        "    num = num * 10 + (ord(s[i]) - ord(\"0\"))\n",
        "    i += 1\n",
        "if isNegative:\n",
        "    num = -num\n",
        "if num < int_min:\n",
        "    num = int_min\n",
        "if num > int_max:\n",
        "    num = int_max\n",
        "print(num)"
      ],
      "metadata": {
        "colab": {
          "base_uri": "https://localhost:8080/"
        },
        "id": "7TGYE-CFU4Dn",
        "outputId": "7e74783c-9be8-4187-e3eb-88c79e46db26"
      },
      "execution_count": null,
      "outputs": [
        {
          "output_type": "stream",
          "name": "stdout",
          "text": [
            "32rrt\n",
            "32\n"
          ]
        }
      ]
    },
    {
      "cell_type": "markdown",
      "source": [
        "6)Longest Substring with K repeating Characters"
      ],
      "metadata": {
        "id": "ZJW25r6EaPTB"
      }
    },
    {
      "cell_type": "code",
      "source": [],
      "metadata": {
        "id": "9EJ0TZE0acBt"
      },
      "execution_count": null,
      "outputs": []
    },
    {
      "cell_type": "markdown",
      "source": [
        "7)Longest Substring without repeating characters"
      ],
      "metadata": {
        "id": "F1I3g-0facPO"
      }
    },
    {
      "cell_type": "code",
      "source": [],
      "metadata": {
        "id": "Jk-1BVyfakg4"
      },
      "execution_count": null,
      "outputs": []
    }
  ]
}