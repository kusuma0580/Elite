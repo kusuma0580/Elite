{
  "nbformat": 4,
  "nbformat_minor": 0,
  "metadata": {
    "colab": {
      "provenance": [],
      "authorship_tag": "ABX9TyOmcNuQzVXnp1BGPRKL3c8+",
      "include_colab_link": true
    },
    "kernelspec": {
      "name": "python3",
      "display_name": "Python 3"
    },
    "language_info": {
      "name": "python"
    }
  },
  "cells": [
    {
      "cell_type": "markdown",
      "metadata": {
        "id": "view-in-github",
        "colab_type": "text"
      },
      "source": [
        "<a href=\"https://colab.research.google.com/github/kusuma0580/Elite/blob/main/eliteDay4.ipynb\" target=\"_parent\"><img src=\"https://colab.research.google.com/assets/colab-badge.svg\" alt=\"Open In Colab\"/></a>"
      ]
    },
    {
      "cell_type": "markdown",
      "source": [
        "PathSum2"
      ],
      "metadata": {
        "id": "MIy8_tCBYLE9"
      }
    },
    {
      "cell_type": "code",
      "source": [
        "#leetcode 113\n",
        "class Solution(object):\n",
        "    def pathSum(self, root, targetSum):\n",
        "        \"\"\"\n",
        "        :type root: TreeNode\n",
        "        :type targetSum: int\n",
        "        :rtype: List[List[int]]\n",
        "        \"\"\"\n",
        "        if root is None:\n",
        "            return []\n",
        "        if root.left is None and root.right is None and targetSum == root.val:\n",
        "            return [[root.val]]\n",
        "        lpath = self.pathSum(root.left, targetSum-root.val)\n",
        "        rpath = self.pathSum(root.right, targetSum-root.val)\n",
        "        left = [[root.val] + l for l in lpath]\n",
        "        right = [[root.val] + r for r in rpath]\n",
        "        return left + right"
      ],
      "metadata": {
        "id": "0r8jK-tKYLR_"
      },
      "execution_count": null,
      "outputs": []
    },
    {
      "cell_type": "markdown",
      "source": [
        "PathSum3"
      ],
      "metadata": {
        "id": "4uzsy1uOYLfz"
      }
    },
    {
      "cell_type": "code",
      "source": [
        "#leetcode 437"
      ],
      "metadata": {
        "id": "fpMTGP-DYLtl"
      },
      "execution_count": null,
      "outputs": []
    },
    {
      "cell_type": "markdown",
      "source": [
        "BinaryTree Maximum PathSum"
      ],
      "metadata": {
        "id": "RqaL_lQTYL9Q"
      }
    },
    {
      "cell_type": "code",
      "source": [
        "#leetcode 124"
      ],
      "metadata": {
        "id": "mLp--9KNYMKh"
      },
      "execution_count": null,
      "outputs": []
    }
  ]
}