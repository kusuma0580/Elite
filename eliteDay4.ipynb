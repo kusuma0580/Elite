{
  "nbformat": 4,
  "nbformat_minor": 0,
  "metadata": {
    "colab": {
      "provenance": [],
      "authorship_tag": "ABX9TyN2X+1uSdzxVOXNjXV8pq59",
      "include_colab_link": true
    },
    "kernelspec": {
      "name": "python3",
      "display_name": "Python 3"
    },
    "language_info": {
      "name": "python"
    }
  },
  "cells": [
    {
      "cell_type": "markdown",
      "metadata": {
        "id": "view-in-github",
        "colab_type": "text"
      },
      "source": [
        "<a href=\"https://colab.research.google.com/github/kusuma0580/Elite/blob/main/eliteDay4.ipynb\" target=\"_parent\"><img src=\"https://colab.research.google.com/assets/colab-badge.svg\" alt=\"Open In Colab\"/></a>"
      ]
    },
    {
      "cell_type": "markdown",
      "source": [
        "PathSum2"
      ],
      "metadata": {
        "id": "MIy8_tCBYLE9"
      }
    },
    {
      "cell_type": "code",
      "source": [
        "#leetcode 113\n",
        "class Solution(object):\n",
        "    def pathSum(self, root, targetSum):\n",
        "        \"\"\"\n",
        "        :type root: TreeNode\n",
        "        :type targetSum: int\n",
        "        :rtype: List[List[int]]\n",
        "        \"\"\"\n",
        "        if root is None:\n",
        "            return []\n",
        "        if root.left is None and root.right is None and targetSum == root.val:\n",
        "            return [[root.val]]\n",
        "        lpath = self.pathSum(root.left, targetSum-root.val)\n",
        "        rpath = self.pathSum(root.right, targetSum-root.val)\n",
        "        left = [[root.val] + l for l in lpath]\n",
        "        right = [[root.val] + r for r in rpath]\n",
        "        return left + right"
      ],
      "metadata": {
        "id": "0r8jK-tKYLR_"
      },
      "execution_count": null,
      "outputs": []
    },
    {
      "cell_type": "markdown",
      "source": [
        "PathSum3"
      ],
      "metadata": {
        "id": "4uzsy1uOYLfz"
      }
    },
    {
      "cell_type": "code",
      "source": [
        "#leetcode 437\n",
        "class Solution(object):\n",
        "    def pathSum(self, root, summ):\n",
        "        \"\"\"\n",
        "        :type root: TreeNode\n",
        "        :type targetSum: int\n",
        "        :rtype: int\n",
        "        \"\"\"\n",
        "        if not root: return 0\n",
        "        def dfsearch(root, summ):\n",
        "            res = 0\n",
        "            if not root: return res\n",
        "            if summ == root.val:\n",
        "                res += 1\n",
        "            res += dfsearch(root.left, summ-root.val)\n",
        "            res += dfsearch(root.right, summ-root.val)\n",
        "            return res\n",
        "        return dfsearch(root, summ) + self.pathSum(root.left, summ) + self.pathSum(root.right, summ)"
      ],
      "metadata": {
        "id": "fpMTGP-DYLtl"
      },
      "execution_count": null,
      "outputs": []
    },
    {
      "cell_type": "markdown",
      "source": [
        "BinaryTree Maximum PathSum"
      ],
      "metadata": {
        "id": "RqaL_lQTYL9Q"
      }
    },
    {
      "cell_type": "code",
      "source": [
        "#leetcode 124\n"
      ],
      "metadata": {
        "id": "mLp--9KNYMKh"
      },
      "execution_count": null,
      "outputs": []
    }
  ]
}