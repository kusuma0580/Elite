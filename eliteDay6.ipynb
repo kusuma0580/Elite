{
  "nbformat": 4,
  "nbformat_minor": 0,
  "metadata": {
    "colab": {
      "provenance": [],
      "authorship_tag": "ABX9TyNhKnoySE9fassuZx2/SoJ0",
      "include_colab_link": true
    },
    "kernelspec": {
      "name": "python3",
      "display_name": "Python 3"
    },
    "language_info": {
      "name": "python"
    }
  },
  "cells": [
    {
      "cell_type": "markdown",
      "metadata": {
        "id": "view-in-github",
        "colab_type": "text"
      },
      "source": [
        "<a href=\"https://colab.research.google.com/github/kusuma0580/Elite/blob/main/eliteDay6.ipynb\" target=\"_parent\"><img src=\"https://colab.research.google.com/assets/colab-badge.svg\" alt=\"Open In Colab\"/></a>"
      ]
    },
    {
      "cell_type": "markdown",
      "source": [
        "1)search in BST"
      ],
      "metadata": {
        "id": "lFcqc6amwj8i"
      }
    },
    {
      "cell_type": "code",
      "source": [
        "#leetcode 700\n",
        "class Solution(object):\n",
        "    def searchBST(self, root, val):\n",
        "        \"\"\"\n",
        "        :type root: TreeNode\n",
        "        :type val: int\n",
        "        :rtype: TreeNode\n",
        "        \"\"\"\n",
        "        if root == None:\n",
        "            return None\n",
        "        if root.val == val:\n",
        "            return root\n",
        "        if val < root.val:\n",
        "            return self.searchBST(root.left, val)\n",
        "        return self.searchBST(root.right, val)"
      ],
      "metadata": {
        "id": "d5x027UBwkPS"
      },
      "execution_count": null,
      "outputs": []
    },
    {
      "cell_type": "markdown",
      "source": [
        "2)Insertion in BST"
      ],
      "metadata": {
        "id": "TVjtkMOJwquB"
      }
    },
    {
      "cell_type": "code",
      "source": [
        "#leetcode 701\n",
        "class Solution(object):\n",
        "    def insertIntoBST(self, root, val):\n",
        "        \"\"\"\n",
        "        :type root: TreeNode\n",
        "        :type val: int\n",
        "        :rtype: TreeNode\n",
        "        \"\"\"\n",
        "        if root == None:\n",
        "            return TreeNode(val)\n",
        "        if root.val > val:\n",
        "            root.left = self.insertIntoBST(root.left, val)\n",
        "        else:\n",
        "            root.right = self.insertIntoBST(root.right, val)\n",
        "        return root"
      ],
      "metadata": {
        "id": "BFJ9PtG8wrFt"
      },
      "execution_count": null,
      "outputs": []
    },
    {
      "cell_type": "markdown",
      "source": [
        "3)Deletion in BST"
      ],
      "metadata": {
        "id": "N8yIRF3JwrUE"
      }
    },
    {
      "cell_type": "code",
      "source": [
        "#leetcode 450"
      ],
      "metadata": {
        "id": "rB0vGwDmwrjL"
      },
      "execution_count": null,
      "outputs": []
    },
    {
      "cell_type": "markdown",
      "source": [
        "4)LCA in BST"
      ],
      "metadata": {
        "id": "AxS_JoiBw1rn"
      }
    },
    {
      "cell_type": "code",
      "source": [
        "#leetcode 235\n",
        "class Solution(object):\n",
        "    def lowestCommonAncestor(self, root, p, q):\n",
        "        \"\"\"\n",
        "        :type root: TreeNode\n",
        "        :type p: TreeNode\n",
        "        :type q: TreeNode\n",
        "        :rtype: TreeNode\n",
        "        \"\"\"\n",
        "        if root == None or root == p or root == q:\n",
        "            return root\n",
        "        left = self.lowestCommonAncestor(root.left, p, q)\n",
        "        right = self.lowestCommonAncestor(root.right, p, q)\n",
        "        if left and right:\n",
        "            return root\n",
        "        return left or right"
      ],
      "metadata": {
        "id": "0-VHxFAFw13m"
      },
      "execution_count": null,
      "outputs": []
    },
    {
      "cell_type": "markdown",
      "source": [
        "5)finding ciel"
      ],
      "metadata": {
        "id": "zUl1zlc7w2EA"
      }
    },
    {
      "cell_type": "code",
      "source": [],
      "metadata": {
        "id": "t0UQsaMAw2Rp"
      },
      "execution_count": null,
      "outputs": []
    },
    {
      "cell_type": "markdown",
      "source": [
        "6)finding floor"
      ],
      "metadata": {
        "id": "s7LZNUcExIR5"
      }
    },
    {
      "cell_type": "code",
      "source": [],
      "metadata": {
        "id": "d6oWkI20xJzb"
      },
      "execution_count": null,
      "outputs": []
    },
    {
      "cell_type": "markdown",
      "source": [
        "8)finding predecessor and successor"
      ],
      "metadata": {
        "id": "_nQheMsaxR5Q"
      }
    },
    {
      "cell_type": "code",
      "source": [
        "#codestudio\n",
        "def predecessor(root):\n",
        "  if root is None:\n",
        "    return None\n",
        "  root = root.left\n",
        "  while root.right:\n",
        "    root = root.right\n",
        "  return root\n",
        "def successor(root):\n",
        "  if root is None:\n",
        "    return None\n",
        "  root = root.right\n",
        "  while root.left:\n",
        "    root = root.left\n",
        "  return root"
      ],
      "metadata": {
        "id": "z8Pz19ttxMTj"
      },
      "execution_count": null,
      "outputs": []
    }
  ]
}