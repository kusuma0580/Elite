{
  "nbformat": 4,
  "nbformat_minor": 0,
  "metadata": {
    "colab": {
      "provenance": [],
      "authorship_tag": "ABX9TyMwA5T3t8lgwEfz+NaFPhHm",
      "include_colab_link": true
    },
    "kernelspec": {
      "name": "python3",
      "display_name": "Python 3"
    },
    "language_info": {
      "name": "python"
    }
  },
  "cells": [
    {
      "cell_type": "markdown",
      "metadata": {
        "id": "view-in-github",
        "colab_type": "text"
      },
      "source": [
        "<a href=\"https://colab.research.google.com/github/kusuma0580/Elite/blob/main/eliteDay5.ipynb\" target=\"_parent\"><img src=\"https://colab.research.google.com/assets/colab-badge.svg\" alt=\"Open In Colab\"/></a>"
      ]
    },
    {
      "cell_type": "markdown",
      "source": [
        "1)level order traversal"
      ],
      "metadata": {
        "id": "fCoAtbnxW2ww"
      }
    },
    {
      "cell_type": "code",
      "source": [
        "#leetcode 102\n",
        "class Solution(object):\n",
        "    def levelOrder(self, root):\n",
        "        \"\"\"\n",
        "        :type root: TreeNode\n",
        "        :rtype: List[List[int]]\n",
        "        \"\"\"\n",
        "        if root is None:\n",
        "            return []\n",
        "        res = []\n",
        "        q = []\n",
        "        q.append(root)\n",
        "        while q:\n",
        "            l = len(q)\n",
        "            next_level, val = [], []\n",
        "            for i in range(l):\n",
        "                val.append(q[i].val)\n",
        "                if q[i].left:\n",
        "                    next_level.append(q[i].left)\n",
        "                if q[i].right:\n",
        "                    next_level.append(q[i].right)  \n",
        "            q = next_level\n",
        "            res.append(val)\n",
        "        return res"
      ],
      "metadata": {
        "id": "_E-KrgWtW3Af"
      },
      "execution_count": null,
      "outputs": []
    },
    {
      "cell_type": "markdown",
      "source": [
        "2)left view"
      ],
      "metadata": {
        "id": "73bihtsNW3Jv"
      }
    },
    {
      "cell_type": "code",
      "source": [],
      "metadata": {
        "id": "4TU2CTsOW3bT"
      },
      "execution_count": null,
      "outputs": []
    },
    {
      "cell_type": "markdown",
      "source": [
        "3)right view"
      ],
      "metadata": {
        "id": "ew0Bv7C-W3nA"
      }
    },
    {
      "cell_type": "code",
      "source": [],
      "metadata": {
        "id": "HG-F9sq-W30w"
      },
      "execution_count": null,
      "outputs": []
    },
    {
      "cell_type": "markdown",
      "source": [
        "4)top view"
      ],
      "metadata": {
        "id": "IZCskjiLW4Gg"
      }
    },
    {
      "cell_type": "code",
      "source": [],
      "metadata": {
        "id": "pNkCes9lW4Og"
      },
      "execution_count": null,
      "outputs": []
    },
    {
      "cell_type": "markdown",
      "source": [
        "5)down view"
      ],
      "metadata": {
        "id": "Sy_Xq5buXJIh"
      }
    },
    {
      "cell_type": "code",
      "source": [],
      "metadata": {
        "id": "cvwmOOxEXJS8"
      },
      "execution_count": null,
      "outputs": []
    },
    {
      "cell_type": "markdown",
      "source": [
        "6)zigzag level order traversal"
      ],
      "metadata": {
        "id": "AXChWSMUXMcq"
      }
    },
    {
      "cell_type": "code",
      "source": [
        "#leetcode 103\n",
        "class Solution(object):\n",
        "    def zigzagLevelOrder(self, root):\n",
        "        \"\"\"\n",
        "        :type root: TreeNode\n",
        "        :rtype: List[List[int]]\n",
        "        \"\"\"\n",
        "        res = []\n",
        "        q = []\n",
        "        if root:\n",
        "            q.append(root)\n",
        "        while q:\n",
        "            res.append([node.val for node in q])\n",
        "            next_level = []\n",
        "            for node in q:\n",
        "                if node.left:\n",
        "                    next_level.append(node.left)\n",
        "                if node.right:\n",
        "                    next_level.append(node.right)\n",
        "            q = next_level\n",
        "        for i in range(1, len(res),2):\n",
        "            res[i].reverse()\n",
        "        return res"
      ],
      "metadata": {
        "id": "s_n6pOKwXMwc"
      },
      "execution_count": null,
      "outputs": []
    },
    {
      "cell_type": "markdown",
      "source": [
        "7)Serialization and deserialization of binary tree"
      ],
      "metadata": {
        "id": "_gl07ZP9XSed"
      }
    },
    {
      "cell_type": "code",
      "source": [
        "#leetcode 297\n",
        class Codec:

    def serialize(self, root):
        """Encodes a tree to a single string.
        
        :type root: TreeNode
        :rtype: str
        """
        if root is None:
            return ''
        res = ''
        q = []
        q.append(root)
        while q:
            node = q.pop(0)
            if node:
                res += str(node.val) + ' '
                q.append(node.left)
                q.append(node.right)
            else:
                res += 'n '
        return res
        

    def deserialize(self, data):
        """Decodes your encoded data to tree.
        
        :type data: str
        :rtype: TreeNode
        """
        if not data:
            return None
        val = data.split()
        root = TreeNode(val[0])
        q = [root]
        for i in range(1, len(val), 2):
            node = q.pop(0)
            if val[i] != 'n':
                node.left = TreeNode(val[i])
                q.append(node.left)
            if val[i + 1] != 'n':
                node.right = TreeNode(val[i + 1])
                q.append(node.right)
        return root

      ],
      "metadata": {
        "id": "zMZBxMWIXSoy"
      },
      "execution_count": null,
      "outputs": []
    }
  ]
}
