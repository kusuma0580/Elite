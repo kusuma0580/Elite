{
  "nbformat": 4,
  "nbformat_minor": 0,
  "metadata": {
    "colab": {
      "provenance": [],
      "authorship_tag": "ABX9TyNU6AarkVztYmLy9J0yFvqd",
      "include_colab_link": true
    },
    "kernelspec": {
      "name": "python3",
      "display_name": "Python 3"
    },
    "language_info": {
      "name": "python"
    }
  },
  "cells": [
    {
      "cell_type": "markdown",
      "metadata": {
        "id": "view-in-github",
        "colab_type": "text"
      },
      "source": [
        "<a href=\"https://colab.research.google.com/github/kusuma0580/Elite/blob/main/eliteDay3.ipynb\" target=\"_parent\"><img src=\"https://colab.research.google.com/assets/colab-badge.svg\" alt=\"Open In Colab\"/></a>"
      ]
    },
    {
      "cell_type": "markdown",
      "source": [
        "1)LCA"
      ],
      "metadata": {
        "id": "5AIvoe0gHADc"
      }
    },
    {
      "cell_type": "code",
      "source": [
        "#leetcode problem 437\n",
        "class Solution(object):\n",
        "    def lowestCommonAncestor(self, root, p, q):\n",
        "        \"\"\"\n",
        "        :type root: TreeNode\n",
        "        :type p: TreeNode\n",
        "        :type q: TreeNode\n",
        "        :rtype: TreeNode\n",
        "        \"\"\"\n",
        "        if (root == None):\n",
        "            return None\n",
        "        if root == p or root == q:\n",
        "            return root\n",
        "        left = self.lowestCommonAncestor(root.left, p, q)\n",
        "        right = self.lowestCommonAncestor(root.right, p, q)\n",
        "        if left != None and right != None:\n",
        "            return root\n",
        "        if left != None:\n",
        "            return left\n",
        "        if right != None:\n",
        "            return right\n",
        "        return None"
      ],
      "metadata": {
        "id": "JqkArtxsHKT2"
      },
      "execution_count": null,
      "outputs": []
    },
    {
      "cell_type": "markdown",
      "source": [
        "2)PathSum"
      ],
      "metadata": {
        "id": "ZtZbpQCnHKnF"
      }
    },
    {
      "cell_type": "code",
      "source": [
        "#leetcode problem 112\n",
        "class Solution(object):\n",
        "    def hasPathSum(self, root, targetSum):\n",
        "        \"\"\"\n",
        "        :type root: TreeNode\n",
        "        :type targetSum: int\n",
        "        :rtype: bool\n",
        "        \"\"\"\n",
        "        if root == None:\n",
        "            return False\n",
        "        if root.left == None and root.right == None and targetSum - root.val == 0:\n",
        "            return True\n",
        "        return self.hasPathSum(root.left, targetSum - root.val) or self.hasPathSum(root.right, targetSum - root.val)"
      ],
      "metadata": {
        "id": "4LZz_vucHNuU"
      },
      "execution_count": null,
      "outputs": []
    },
    {
      "cell_type": "markdown",
      "source": [
        "3)Combined PathSum"
      ],
      "metadata": {
        "id": "3eWG_4JYHOLk"
      }
    },
    {
      "cell_type": "code",
      "source": [],
      "metadata": {
        "id": "PpwJgge2HRe9"
      },
      "execution_count": null,
      "outputs": []
    },
    {
      "cell_type": "markdown",
      "source": [
        "4)Diameter of tree"
      ],
      "metadata": {
        "id": "umEVg_cVHRr8"
      }
    },
    {
      "cell_type": "code",
      "source": [
        "#leetcode 543\n",
        "class Solution(object):\n",
        "    def diameterOfBinaryTree(self, root):\n",
        "        \"\"\"\n",
        "        :type root: TreeNode\n",
        "        :rtype: int\n",
        "        \"\"\"\n",
        "        def max_height(root):\n",
        "            if root == None:\n",
        "                return 0\n",
        "            left = max_height(root.left)\n",
        "            right = max_height(root.right)\n",
        "            return max(left, right) + 1\n",
        "        if root == None:\n",
        "            return 0\n",
        "        left_max = max_height(root.left)\n",
        "        right_max = max_height(root.right)\n",
        "        return max(self.diameterOfBinaryTree(root.left), self.diameterOfBinaryTree(root.right), left_max + right_max)"
      ],
      "metadata": {
        "id": "p86gIfJvHaDE"
      },
      "execution_count": null,
      "outputs": []
    },
    {
      "cell_type": "markdown",
      "source": [
        "5)Path of all other nodes from root node"
      ],
      "metadata": {
        "id": "jjh3B06fHd90"
      }
    },
    {
      "cell_type": "code",
      "source": [],
      "metadata": {
        "id": "Qr3C_kH4H0ug"
      },
      "execution_count": null,
      "outputs": []
    }
  ]
}