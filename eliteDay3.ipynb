{
  "nbformat": 4,
  "nbformat_minor": 0,
  "metadata": {
    "colab": {
      "provenance": [],
      "authorship_tag": "ABX9TyNXeibFxlCULvmoZ1bhKrVg",
      "include_colab_link": true
    },
    "kernelspec": {
      "name": "python3",
      "display_name": "Python 3"
    },
    "language_info": {
      "name": "python"
    }
  },
  "cells": [
    {
      "cell_type": "markdown",
      "metadata": {
        "id": "view-in-github",
        "colab_type": "text"
      },
      "source": [
        "<a href=\"https://colab.research.google.com/github/kusuma0580/Elite/blob/main/eliteDay3.ipynb\" target=\"_parent\"><img src=\"https://colab.research.google.com/assets/colab-badge.svg\" alt=\"Open In Colab\"/></a>"
      ]
    },
    {
      "cell_type": "markdown",
      "source": [
        "1)LCA"
      ],
      "metadata": {
        "id": "5AIvoe0gHADc"
      }
    },
    {
      "cell_type": "code",
      "source": [
        "class Solution(object):\n",
        "    def lowestCommonAncestor(self, root, p, q):\n",
        "        \"\"\"\n",
        "        :type root: TreeNode\n",
        "        :type p: TreeNode\n",
        "        :type q: TreeNode\n",
        "        :rtype: TreeNode\n",
        "        \"\"\"\n",
        "        if (root == None):\n",
        "            return None\n",
        "        if root == p or root == q:\n",
        "            return root\n",
        "        left = self.lowestCommonAncestor(root.left, p, q)\n",
        "        right = self.lowestCommonAncestor(root.right, p, q)\n",
        "        if left != None and right != None:\n",
        "            return root\n",
        "        if left != None:\n",
        "            return left\n",
        "        if right != None:\n",
        "            return right\n",
        "        return None"
      ],
      "metadata": {
        "id": "JqkArtxsHKT2"
      },
      "execution_count": null,
      "outputs": []
    },
    {
      "cell_type": "markdown",
      "source": [
        "2)PathSum"
      ],
      "metadata": {
        "id": "ZtZbpQCnHKnF"
      }
    },
    {
      "cell_type": "code",
      "source": [],
      "metadata": {
        "id": "4LZz_vucHNuU"
      },
      "execution_count": null,
      "outputs": []
    },
    {
      "cell_type": "markdown",
      "source": [
        "3)Combined PathSum"
      ],
      "metadata": {
        "id": "3eWG_4JYHOLk"
      }
    },
    {
      "cell_type": "code",
      "source": [],
      "metadata": {
        "id": "PpwJgge2HRe9"
      },
      "execution_count": null,
      "outputs": []
    },
    {
      "cell_type": "markdown",
      "source": [
        "4)Diameter of tree"
      ],
      "metadata": {
        "id": "umEVg_cVHRr8"
      }
    },
    {
      "cell_type": "code",
      "source": [],
      "metadata": {
        "id": "p86gIfJvHaDE"
      },
      "execution_count": null,
      "outputs": []
    },
    {
      "cell_type": "markdown",
      "source": [
        "5)Path of all other nodes from root node"
      ],
      "metadata": {
        "id": "jjh3B06fHd90"
      }
    },
    {
      "cell_type": "code",
      "source": [],
      "metadata": {
        "id": "Qr3C_kH4H0ug"
      },
      "execution_count": null,
      "outputs": []
    }
  ]
}